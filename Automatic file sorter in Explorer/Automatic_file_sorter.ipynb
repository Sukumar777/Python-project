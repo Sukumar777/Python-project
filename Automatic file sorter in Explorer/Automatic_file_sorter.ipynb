{
 "cells": [
  {
   "cell_type": "markdown",
   "id": "3c5eb992",
   "metadata": {},
   "source": [
    "# Automatic File Sorter in Explorer"
   ]
  },
  {
   "cell_type": "code",
   "execution_count": 15,
   "id": "40536eac",
   "metadata": {},
   "outputs": [],
   "source": [
    "#import necessary libraries\n",
    "\n",
    "import os\n",
    "import shutil"
   ]
  },
  {
   "cell_type": "code",
   "execution_count": 16,
   "id": "1addede8",
   "metadata": {},
   "outputs": [],
   "source": [
    "def sortfiles(folder_to_track):\n",
    "    # iterating all the files\n",
    "    for filename in os.listdir(folder_to_track):\n",
    "        # Checking if the current path is a file and not a directory\n",
    "        if os.path.isfile(os.path.join(folder_to_track, filename)):\n",
    "            file_extension = filename.split(\".\")[-1] + \" files\"\n",
    "            source = os.path.join(folder_to_track, filename)\n",
    "            destination_folder = os.path.join(folder_to_track, file_extension)\n",
    "            destination = os.path.join(destination_folder, filename)\n",
    "            \n",
    "            # creating a destination folder if it doesn't exist\n",
    "            if not os.path.exists(destination_folder):\n",
    "                os.makedirs(destination_folder)\n",
    "            \n",
    "            #moving the files from source to the destination\n",
    "            shutil.move(source, destination)\n",
    "\n",
    "        "
   ]
  },
  {
   "cell_type": "code",
   "execution_count": 17,
   "id": "187cb701",
   "metadata": {},
   "outputs": [],
   "source": [
    "def main():\n",
    "    folder_to_track = os.path.expanduser('~/Downloads')\n",
    "    \n",
    "    sortfiles(folder_to_track)\n"
   ]
  },
  {
   "cell_type": "code",
   "execution_count": 18,
   "id": "ef4a4433",
   "metadata": {},
   "outputs": [],
   "source": [
    "main()"
   ]
  },
  {
   "cell_type": "code",
   "execution_count": null,
   "id": "782dee56",
   "metadata": {},
   "outputs": [],
   "source": []
  },
  {
   "cell_type": "code",
   "execution_count": null,
   "id": "55b35e6f",
   "metadata": {},
   "outputs": [],
   "source": []
  },
  {
   "cell_type": "code",
   "execution_count": null,
   "id": "aec7bf30",
   "metadata": {},
   "outputs": [],
   "source": []
  },
  {
   "cell_type": "code",
   "execution_count": null,
   "id": "eaef78ee",
   "metadata": {},
   "outputs": [],
   "source": []
  },
  {
   "cell_type": "code",
   "execution_count": null,
   "id": "2ea4336a",
   "metadata": {},
   "outputs": [],
   "source": []
  },
  {
   "cell_type": "code",
   "execution_count": null,
   "id": "e8295f82",
   "metadata": {},
   "outputs": [],
   "source": []
  },
  {
   "cell_type": "code",
   "execution_count": null,
   "id": "c0166968",
   "metadata": {},
   "outputs": [],
   "source": []
  },
  {
   "cell_type": "code",
   "execution_count": null,
   "id": "0d2245f8",
   "metadata": {},
   "outputs": [],
   "source": []
  }
 ],
 "metadata": {
  "kernelspec": {
   "display_name": "Python 3 (ipykernel)",
   "language": "python",
   "name": "python3"
  },
  "language_info": {
   "codemirror_mode": {
    "name": "ipython",
    "version": 3
   },
   "file_extension": ".py",
   "mimetype": "text/x-python",
   "name": "python",
   "nbconvert_exporter": "python",
   "pygments_lexer": "ipython3",
   "version": "3.11.4"
  }
 },
 "nbformat": 4,
 "nbformat_minor": 5
}
